{
  "nbformat": 4,
  "nbformat_minor": 0,
  "metadata": {
    "colab": {
      "provenance": []
    },
    "kernelspec": {
      "name": "python3",
      "display_name": "Python 3"
    },
    "language_info": {
      "name": "python"
    }
  },
  "cells": [
    {
      "cell_type": "markdown",
      "source": [
        "1. What is a parameter?\n",
        "  - A parameter is a value that a model learns during training.\n",
        "  - Example: In linear regression\n",
        "y=mx*cy\n",
        "y=mx+c, both m and c are parameters.\n",
        "\n",
        "2. What is correlation?\n",
        "  - Correlation measures how two variables move together.\n",
        "  - Range: –1 to +1\n",
        "+1 → Perfect positive relationship\n",
        "0 → No relationship\n",
        "–1 → Perfect negative relationship\n",
        "\n",
        "3. What does negative correlation mean?\n",
        "  - A negative correlation means that as one variable increases, the other decreases.\n",
        "  - Example: As rainfall increases, the number of sunny days decreases.\n",
        "4. Define Machine Learning. What are the main components in Machine Learning?\n",
        "  - Machine Learning (ML) is a field of AI that enables systems to learn patterns from data and make predictions without being explicitly programmed.\n",
        "  - Main components:\n",
        "Data,\n",
        "Features,\n",
        "Model,\n",
        "Loss Function,\n",
        "Optimizer,\n",
        "Evaluation Metrics\n",
        "\n",
        "5. How does loss value help in determining whether the model is good or not?\n",
        "  - The loss value measures how far a model’s predictions are from actual results.\n",
        "  - Low loss = Good model\n",
        "  - High loss = Poor model\n",
        "  - Goal: Minimize loss during training.\n",
        "\n",
        "6. What are continuous and categorical variables?\n",
        "  - Continuous variables: Numeric, can take any real value (e.g., height, temperature).\n",
        "  - Categorical variables: Represent groups or labels (e.g., gender, color, country).\n",
        "\n",
        "7. How do we handle categorical variables in Machine Learning?\n",
        "  - Categorical variables must be encoded as numbers.\n",
        "  - Common techniques:\n",
        "Label Encoding,\n",
        "One-Hot Encoding,\n",
        "Ordinal Encoding\n",
        "\n",
        "8. What do you mean by training and testing a dataset?\n",
        "  - Training set: Used to teach the model.\n",
        "  - Testing set: Used to check how well the model performs on unseen data.\n",
        "\n",
        "9. What is sklearn.preprocessing?\n",
        "  - A scikit-learn module providing tools for:\n",
        "Scaling numeric data,\n",
        "Encoding categorical data,\n",
        "Normalization and feature transformation\n",
        "\n",
        "10. What is a test set?\n",
        "  - The test set is the part of data used only after training — to evaluate model accuracy and generalization."
      ],
      "metadata": {
        "id": "TN99cjxpv3zO"
      }
    },
    {
      "cell_type": "code",
      "execution_count": 2,
      "metadata": {
        "colab": {
          "base_uri": "https://localhost:8080/"
        },
        "id": "FCqvZxDlvzD8",
        "outputId": "ca3ff934-9d19-4c09-91ee-9f88057c6895"
      },
      "outputs": [
        {
          "output_type": "stream",
          "name": "stdout",
          "text": [
            "X_train shape: (4, 2)\n",
            "X_test shape: (1, 2)\n",
            "y_train shape: (4,)\n",
            "y_test shape: (1,)\n"
          ]
        }
      ],
      "source": [
        "#11. How do we split data for model fitting (training and testing) in Python?\n",
        "\n",
        "#Using scikit-learn:\n",
        "\n",
        "from sklearn.model_selection import train_test_split\n",
        "import numpy as np # Import numpy to create placeholder data\n",
        "\n",
        "# Placeholder data (replace with your actual data)\n",
        "X = np.array([[1, 2], [3, 4], [5, 6], [7, 8], [9, 10]])\n",
        "y = np.array([0, 1, 0, 1, 0])\n",
        "\n",
        "\n",
        "X_train, X_test, y_train, y_test = train_test_split(X, y, test_size=0.2, random_state=42)\n",
        "\n",
        "#Here, 20% of the data is used for testing.\n",
        "\n",
        "print(\"X_train shape:\", X_train.shape)\n",
        "print(\"X_test shape:\", X_test.shape)\n",
        "print(\"y_train shape:\", y_train.shape)\n",
        "print(\"y_test shape:\", y_test.shape)"
      ]
    },
    {
      "cell_type": "markdown",
      "source": [
        "12. How do you approach a Machine Learning problem?\n",
        "  - Step-by-step approach:\n",
        "Define the problem\n",
        "Collect and clean data\n",
        "Perform EDA (Exploratory Data Analysis)\n",
        "Encode and preprocess data\n",
        "Split data (train/test)\n",
        "Train the model\n",
        "Evaluate performance\n",
        "Tune hyperparameters\n",
        "Deploy and monitor the model\n",
        "\n",
        "13. Why do we have to perform EDA before fitting a model to the data?\n",
        "  - EDA (Exploratory Data Analysis) helps you:\n",
        "Understand patterns and distributions\n",
        "Detect missing or outlier values\n",
        "Identify relationships between variables\n",
        "Choose suitable preprocessing and features"
      ],
      "metadata": {
        "id": "tpS0NvAC6IEA"
      }
    },
    {
      "cell_type": "code",
      "source": [
        "#14. How can you find correlation between variables in Python?\n",
        "\n",
        "import pandas as pd\n",
        "df.corr()\n",
        "# Or visualize:\n",
        "import seaborn as sns\n",
        "sns.heatmap(df.corr(), annot=True)\n",
        "\n",
        "\n"
      ],
      "metadata": {
        "colab": {
          "base_uri": "https://localhost:8080/",
          "height": 207
        },
        "collapsed": true,
        "id": "V-zewlsS6U5C",
        "outputId": "9910e0db-9f09-4c4e-fb3d-6514caac4606"
      },
      "execution_count": 4,
      "outputs": [
        {
          "output_type": "error",
          "ename": "NameError",
          "evalue": "name 'df' is not defined",
          "traceback": [
            "\u001b[0;31m---------------------------------------------------------------------------\u001b[0m",
            "\u001b[0;31mNameError\u001b[0m                                 Traceback (most recent call last)",
            "\u001b[0;32m/tmp/ipython-input-354410403.py\u001b[0m in \u001b[0;36m<cell line: 0>\u001b[0;34m()\u001b[0m\n\u001b[1;32m      2\u001b[0m \u001b[0;34m\u001b[0m\u001b[0m\n\u001b[1;32m      3\u001b[0m \u001b[0;32mimport\u001b[0m \u001b[0mpandas\u001b[0m \u001b[0;32mas\u001b[0m \u001b[0mpd\u001b[0m\u001b[0;34m\u001b[0m\u001b[0;34m\u001b[0m\u001b[0m\n\u001b[0;32m----> 4\u001b[0;31m \u001b[0mdf\u001b[0m\u001b[0;34m.\u001b[0m\u001b[0mcorr\u001b[0m\u001b[0;34m(\u001b[0m\u001b[0;34m)\u001b[0m\u001b[0;34m\u001b[0m\u001b[0;34m\u001b[0m\u001b[0m\n\u001b[0m\u001b[1;32m      5\u001b[0m \u001b[0;34m\u001b[0m\u001b[0m\n\u001b[1;32m      6\u001b[0m \u001b[0;34m\u001b[0m\u001b[0m\n",
            "\u001b[0;31mNameError\u001b[0m: name 'df' is not defined"
          ]
        }
      ]
    },
    {
      "cell_type": "markdown",
      "source": [
        "15. What is causation? Explain the difference between correlation and causation.\n",
        "  - Causation means one variable directly affects another.\n",
        "  - Correlation only means they move together.\n",
        "  - Example:\n",
        "  - Ice cream sales and drowning cases are correlated (both rise in summer), but ice cream does not cause drowning — temperature is the real cause.\n",
        "\n",
        "16. What is an Optimizer? What are different types of optimizers?\n",
        "  - An optimizer updates model parameters to minimize loss.\n",
        "  - Types:\n",
        "  - Gradient Descent (GD): Adjusts parameters by following the gradient.\n",
        "  - Stochastic Gradient Descent (SGD): Updates parameters for each data point.\n",
        "  - Adam: Adaptive learning rate + momentum (commonly used).\n",
        "  - RMSProp / Adagrad: Adjusts learning rate per parameter.\n",
        "\n",
        "17. What is sklearn.linear_model?\n",
        "  - A scikit-learn module containing linear models such as:\n",
        "  - LinearRegression\n",
        "  - LogisticRegression\n",
        "  - Ridge, Lasso, ElasticNet\n",
        "\n",
        "\n",
        "  18. What does model.fit() do?\n",
        "  - model.fit(X, y) trains the model by learning parameters from the training data.\n",
        "  - Arguments:\n",
        "  - X: Input features\n",
        "  - y: Target variable\n",
        "\n",
        "19. What does model.predict() do?\n",
        "  - model.predict(X_new) generates predictions for new input data.\n",
        "  - Argument:\n",
        "  - X_new: New data points\n",
        "\n",
        "20. What is feature scaling? How does it help in Machine Learning?\n",
        "  - Feature scaling ensures all numerical features are on a similar scale.\n",
        "  - It helps algorithms that are sensitive to feature magnitude (e.g., KNN, SVM, Gradient Descent).\n",
        "  - Common methods:\n",
        "Standardization:\n",
        "(\n",
        "x\n",
        "−\n",
        "mean\n",
        ")\n",
        "/\n",
        "std\n",
        "(x−mean)/std\n",
        "Normalization: Scale between 0 and 1."
      ],
      "metadata": {
        "id": "q-h6HmW968Il"
      }
    },
    {
      "cell_type": "code",
      "source": [
        "#21. How do we perform scaling in Python?\n",
        "\n",
        "from sklearn.preprocessing import StandardScaler, MinMaxScaler\n",
        "\n",
        "scaler = StandardScaler()\n",
        "X_scaled = scaler.fit_transform(X)\n"
      ],
      "metadata": {
        "id": "89Z9HY4X7vzJ"
      },
      "execution_count": 6,
      "outputs": []
    },
    {
      "cell_type": "markdown",
      "source": [
        "22. What is a loss function?\n",
        "  - A loss function measures how well the model’s predictions match actual results.\n",
        "  - Example: Mean Squared Error (MSE) for regression.\n",
        "  - The optimizer minimizes this loss during training.\n",
        "\n",
        "23. What is data encoding?\n",
        "  - Data encoding converts categorical text data into numeric form so ML algorithms can process it.\n",
        "  - Types:\n",
        "  - Label Encoding\n",
        "  - One-Hot Encoding\n",
        "  - Ordinal Encoding\n",
        "  - Example:\n",
        "from sklearn.preprocessing import OneHotEncoder\n",
        "encoder = OneHotEncoder()\n",
        "X_encoded = encoder.fit_transform(X[['Category']])\n",
        "\n",
        "24. What is overfitting and underfitting?\n",
        "  - Overfitting: Model learns noise, performs well on training but poorly on test data.\n",
        "  - Underfitting: Model is too simple, fails to capture data patterns.\n",
        "  - Goal: Find a balance between both.\n",
        "\n",
        "25. What are evaluation metrics in Machine Learning?\n",
        "  - Metrics measure how well a model performs.\n",
        "  - Examples:\n",
        "Regression: MSE, RMSE, R²\n",
        "Classification: Accuracy, Precision, Recall, F1-Score, AUC"
      ],
      "metadata": {
        "id": "sprta3UB72yx"
      }
    }
  ]
}